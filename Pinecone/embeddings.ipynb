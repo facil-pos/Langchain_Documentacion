{
 "cells": [
  {
   "cell_type": "code",
   "execution_count": null,
   "metadata": {},
   "outputs": [],
   "source": [
    "!pip install tiktoken\n",
    "!pip install langchain\n",
    "!pip install openai"
   ]
  },
  {
   "cell_type": "markdown",
   "metadata": {},
   "source": [
    "# Embeddings con OpenAI\n",
    "\n",
    "Hay varios modelos que son capaces de hacer un embedding de nuestro texto, en este cuaderno estaremos utilizando el embedding de OpenAI, el cual tiene la capacidad de posicionas muy bien palabras o textos segun su semantica. Este es el mismo embedding que utilizan los modelos gpt. En este cuaderno estarás haciendo embedding de un texto para despues poder buscar cosas dentro de este texto por medio de preguntas en lenguaje natural.\n",
    "\n",
    "[Embeddings - OpenAI API](https://platform.openai.com/docs/guides/embeddings/what-are-embeddings)"
   ]
  },
  {
   "cell_type": "code",
   "execution_count": 1,
   "metadata": {},
   "outputs": [],
   "source": [
    "# Importamos todas las dependencias requeridas\n",
    "import openai\n",
    "import pandas as pd # Utilizaremso pandas para la creacion de dataframes que nos servira como una seudo-base de datos\n",
    "from openai import OpenAI\n",
    "\n",
    "client = OpenAI()"
   ]
  },
  {
   "cell_type": "markdown",
   "metadata": {},
   "source": [
    "# Miselanea"
   ]
  },
  {
   "cell_type": "markdown",
   "metadata": {},
   "source": [
    "## Calcular costos de un embedding"
   ]
  },
  {
   "cell_type": "code",
   "execution_count": 2,
   "metadata": {},
   "outputs": [],
   "source": [
    "def print_embeddings_cost(texts):\n",
    "  import tiktoken\n",
    "  enc = tiktoken.encoding_for_model('text-embedding-ada-002')\n",
    "  total_tokens = sum([len(enc.encode(page)) for page in texts])\n",
    "  print(f'Total Tokens: {total_tokens}')\n",
    "  print(f'Embeddings consto en dolar:  {total_tokens / 1000 * 0.0001:.5f}')"
   ]
  },
  {
   "cell_type": "markdown",
   "metadata": {},
   "source": [
    "## [Calculo de simulitudes](https://ashukumar27.medium.com/similarity-functions-in-python-aa6dfe721035)"
   ]
  },
  {
   "cell_type": "markdown",
   "metadata": {},
   "source": [
    "### cosine_similarity"
   ]
  },
  {
   "cell_type": "markdown",
   "metadata": {},
   "source": [
    "Para encontrar la similitudes entre dos vectores tenemos que hacer una operacion llamado [``cosine_similarity``](https://en.wikipedia.org/wiki/Cosine_similarity) o similitud del coseno es una medida de la similitud entre dos vectores no nulos definidos en un espacio con producto interno, es el producto escalar de los vectores dividido por el producto de sus longitudes, la similitud del coseno siempre pertenece al intervalo [-1, 1]."
   ]
  },
  {
   "cell_type": "code",
   "execution_count": 3,
   "metadata": {},
   "outputs": [],
   "source": [
    "import numpy as np\n",
    "from numpy.linalg import norm\n",
    "# Funcion para obtener las similitudes entre vectores\n",
    "def cosine_similarity(A, B):\n",
    "    similitud = np.sum(A*B)/(norm(A)*norm(B))\n",
    "    similitud = max(min(similitud, 1), -1)\n",
    "    return similitud"
   ]
  },
  {
   "cell_type": "markdown",
   "metadata": {},
   "source": [
    "### euclidean_similarity\n",
    "\n",
    "La euclidean_similarity o similitud euclidiana es una medida de la similitud entre dos vectores basada en la distancia euclidiana. La distancia euclidiana entre dos vectores X e Y se define como la raíz cuadrada de la suma de las diferencias al cuadrado entre los elementos correspondientes de los dos vectores:\n",
    "\n",
    "La similitud euclidiana se puede obtener restando la distancia euclidiana de una constante mayor que la distancia máxima posible. Por ejemplo, si los vectores tienen valores entre 0 y 1, la constante podría ser 1. Así, la similitud euclidiana entre X e Y sería:\n",
    "\n",
    "s(X,Y)=1−d(X,Y)"
   ]
  },
  {
   "cell_type": "code",
   "execution_count": 4,
   "metadata": {},
   "outputs": [],
   "source": [
    "def euclidean_similarity(vector1, vector2):\n",
    "    # Asegúrate de que ambos vectores tengan la misma longitud\n",
    "    if len(vector1) != len(vector2):\n",
    "        raise ValueError(\"Los vectores deben tener la misma longitud\")\n",
    "\n",
    "    # Calcula la distancia euclidiana entre los dos vectores\n",
    "    distance = np.linalg.norm(np.array(vector1) - np.array(vector2))\n",
    "\n",
    "    # La similitud es el inverso de la distancia (mientras más pequeña la distancia, más similar)\n",
    "    similarity = 1 / (1 + distance)\n",
    "\n",
    "    return similarity"
   ]
  },
  {
   "attachments": {},
   "cell_type": "markdown",
   "metadata": {},
   "source": [
    "# Que es y cómo usar embeddings\n",
    "Al hacer embedding de un dato, lo estamos convirtiendo a un vector numérico, datos similares estarán más cercanos entre si cuando semanticamente son similares"
   ]
  },
  {
   "cell_type": "code",
   "execution_count": 5,
   "metadata": {},
   "outputs": [],
   "source": [
    "# Creamos la funcion para crear embeddings\n",
    "def get_embedding(text, model=\"text-embedding-ada-002\"):\n",
    "   text = text.replace(\"\\n\", \" \")\n",
    "   return client.embeddings.create(input = [text], model=model).data[0].embedding\n"
   ]
  },
  {
   "cell_type": "markdown",
   "metadata": {},
   "source": [
    "## Embeddings de palabras"
   ]
  },
  {
   "cell_type": "code",
   "execution_count": 6,
   "metadata": {},
   "outputs": [],
   "source": [
    "# Se puede hacer embeeding de palabras o cadenas de texto\n",
    "palabras = [\"casa\", \"perro\", \"gato\", \"lobo\", \"leon\", \"zebra\", \"tigre\"]"
   ]
  },
  {
   "cell_type": "code",
   "execution_count": 7,
   "metadata": {},
   "outputs": [
    {
     "name": "stdout",
     "output_type": "stream",
     "text": [
      "Total Tokens: 14\n",
      "Embeddings consto en dolar:  0.00000\n"
     ]
    }
   ],
   "source": [
    "# Calculamos sus costo\n",
    "print_embeddings_cost(list(palabras))"
   ]
  },
  {
   "cell_type": "code",
   "execution_count": 8,
   "metadata": {},
   "outputs": [],
   "source": [
    "diccionario = {}\n",
    "for i in palabras:\n",
    "    diccionario[i] = get_embedding(i, model=\"text-embedding-ada-002\")\n",
    "    "
   ]
  },
  {
   "cell_type": "markdown",
   "metadata": {},
   "source": [
    "## Operacioners con los embeddings"
   ]
  },
  {
   "cell_type": "code",
   "execution_count": 10,
   "metadata": {},
   "outputs": [
    {
     "name": "stdout",
     "output_type": "stream",
     "text": [
      "Primeros 10 valores de gato:\n",
      " [-0.024525104090571404, 0.009590277448296547, -0.00033545654150657356, -0.011137725785374641, -0.007165075279772282, 0.011865937151014805, -0.022041384130716324, -0.024941224604845047, -0.005227514076977968, -0.018972495570778847]\n",
      "\n",
      "\n",
      "Número de dimensiones del dato embebido\n",
      " 1536\n"
     ]
    }
   ],
   "source": [
    "palabra = \"gato\"\n",
    "print(\"Primeros 10 valores de {}:\\n\".format(palabra), diccionario[palabra][:10])\n",
    "print(\"\\n\")\n",
    "print(\"Número de dimensiones del dato embebido\\n\", len(diccionario[palabra]))\n"
   ]
  },
  {
   "attachments": {},
   "cell_type": "markdown",
   "metadata": {},
   "source": [
    "## Comparar dos embeddings\n",
    "Debido a que los embeddings son una representacion vectorial de los datos en un espacio latente, podemos medir la distancia entre dos vectores y asi obtener que tan similares son. Podemos comparar una palabra nueva o alguna de las que ya fueron embebidas \n",
    "OJO: No necesariamente es similitud al objeto. Ej. perro y gato aun siendo \"opuestos\" semanticamente estan cerca pues tienen una relación."
   ]
  },
  {
   "cell_type": "code",
   "execution_count": 11,
   "metadata": {},
   "outputs": [
    {
     "name": "stdout",
     "output_type": "stream",
     "text": [
      "Similitud ueclidina entre lobo y perro es: 0.6495839328206657\n",
      "Similitud coseno entre lobo y perro es: 0.8544985060169356\n"
     ]
    }
   ],
   "source": [
    "import numpy as np\n",
    "\n",
    "n_palabra = \"lobo\" # Palabra nueva a comparar\n",
    "palabra_comparar = \"perro\" # Palabra del diccionario con la que compararemos la nueva palabra\n",
    "n_palabra_embed = get_embedding(n_palabra, model=\"text-embedding-ada-002\")\n",
    "similitud_euclidiana = euclidean_similarity(np.array(diccionario[palabra_comparar]), np.array(n_palabra_embed))\n",
    "similitud_coseno = cosine_similarity(np.array(diccionario[palabra_comparar]), np.array(n_palabra_embed))\n",
    "print(\"Similitud ueclidina entre {} y {} es: {}\".format(n_palabra, palabra_comparar, similitud_euclidiana))\n",
    "print(\"Similitud coseno entre {} y {} es: {}\".format(n_palabra, palabra_comparar, similitud_coseno))"
   ]
  },
  {
   "attachments": {},
   "cell_type": "markdown",
   "metadata": {},
   "source": [
    "# Sumar embeddings\n",
    "Como los vectores contienen valores numericos, podemos sumarlos y el resultado será un nuevo vector de un concepto que una los elementos sumados"
   ]
  },
  {
   "cell_type": "code",
   "execution_count": 46,
   "metadata": {},
   "outputs": [
    {
     "name": "stdout",
     "output_type": "stream",
     "text": [
      "similitud cose de casa: 0.8277789592555793\n",
      "similitud euclidiana de casa: 0.6301626539054387\n",
      "similitud cose de perro: 0.8503498226441224\n",
      "similitud euclidiana de perro: 0.6463775230907934\n",
      "similitud cose de gato: 0.8561199380195257\n",
      "similitud euclidiana de gato: 0.6508582836418143\n",
      "similitud cose de lobo: 0.8563832328729764\n",
      "similitud euclidiana de lobo: 0.6510663671129061\n",
      "similitud cose de leon: 0.9534578304124934\n",
      "similitud euclidiana de leon: 0.7662264179447055\n",
      "similitud cose de zebra: 0.9534578298521325\n",
      "similitud euclidiana de zebra: 0.7662264168663956\n",
      "similitud cose de tigre: 0.8804617125440589\n",
      "similitud euclidiana de tigre: 0.6716121618627884\n"
     ]
    }
   ],
   "source": [
    "from numpy.linalg import norm\n",
    "\n",
    "# Suma los dataframes correctamente\n",
    "sumados = pd.DataFrame(diccionario[\"leon\"]) + pd.DataFrame(diccionario[\"zebra\"])\n",
    "\n",
    "# Normalizamos el vector y que quitamos una dimecion \n",
    "sumados_normalized = np.squeeze(np.array((sumados / norm(sumados))))\n",
    "\n",
    "for key, value in diccionario.items():\n",
    "    # Convierte a array de NumPy antes de calcular la similitud\n",
    "    vector_normalized = np.array(diccionario[key]) / norm(diccionario[key]) # Normaliza el vector\n",
    "    result_cosemo = cosine_similarity(vector_normalized, sumados_normalized)\n",
    "    result_eu = euclidean_similarity(vector_normalized, sumados_normalized)\n",
    "    print(f\"similitud cose de {key}: {result_cosemo}\")\n",
    "    print(f\"similitud euclidiana de {key}: {result_eu}\")\n"
   ]
  },
  {
   "attachments": {},
   "cell_type": "markdown",
   "metadata": {},
   "source": [
    "# Aplicacion de un Chatbot\n",
    "\n",
    "Usaremos Gradio para hacer una interfaz básica donde podremos hacer preguntas y obtendremos una respuesta. \n",
    "Para esto reutilizaremos lo que hemos visto hasta el momento pero usaremos el archivo de **chatbot_qa.csv**"
   ]
  },
  {
   "cell_type": "code",
   "execution_count": 13,
   "metadata": {},
   "outputs": [
    {
     "name": "stdout",
     "output_type": "stream",
     "text": [
      "Total Tokens: 84\n",
      "Embeddings consto en dolar:  0.00001\n"
     ]
    }
   ],
   "source": [
    "# Funcion para crear el embeddion de nuestro texto\n",
    "def embed_text(path=\"texto.csv\"):\n",
    "    conocimiento_df = pd.read_csv(path)\n",
    "    print_embeddings_cost(conocimiento_df[\"texto\"]) # calculamos el costo\n",
    "    conocimiento_df['Embedding'] = conocimiento_df['texto'].apply(lambda x: get_embedding(x, model='text-embedding-ada-002'))\n",
    "    conocimiento_df.to_csv('embeddings.csv')\n",
    "    return conocimiento_df\n",
    "\n",
    "texto_emb = embed_text(\"./Doc/chatbot_qa.csv\")"
   ]
  },
  {
   "cell_type": "code",
   "execution_count": 54,
   "metadata": {},
   "outputs": [
    {
     "name": "stdout",
     "output_type": "stream",
     "text": [
      "Total Tokens: 25\n",
      "Embeddings consto en dolar:  0.00000\n"
     ]
    }
   ],
   "source": [
    "import ast\n",
    "# Funcion para agendar cita\n",
    "def buscar(busqueda, datos, n_resultados=5):\n",
    "    # embedding de la busqueda\n",
    "    print_embeddings_cost(busqueda)\n",
    "    busqueda_embed = get_embedding(busqueda, model=\"text-embedding-ada-002\")\n",
    "    # Convertimos los campos de embedding en listas\n",
    "    datos['Embedding'] = datos['Embedding'].apply(ast.literal_eval)\n",
    "    # Creamos un campo para las euclidean_similarity, cosine_similarity y aplicamos la operacion a los valores del embeddinng\n",
    "    datos[\"Similitud_coseno\"] = datos['Embedding'].apply(lambda x: cosine_similarity(np.array(x), np.array(busqueda_embed)))\n",
    "    datos[\"Similitud_eu\"] = datos['Embedding'].apply(lambda x: euclidean_similarity(np.array(x), np.array(busqueda_embed)))\n",
    "    # Ordenamos de mayor a menor por similitud\n",
    "    datos_cos = datos.sort_values(\"Similitud_coseno\", ascending=False)\n",
    "    datos_eu = datos.sort_values(\"Similitud_eu\", ascending=False)\n",
    "    # Retornamos un dataframe con las primeras 5 respuestas\n",
    "    return [datos_cos.iloc[:n_resultados][[\"texto\", \"Similitud_coseno\", \"Embedding\"]], datos_eu.iloc[:n_resultados][[\"texto\", \"Similitud_eu\", \"Embedding\"]] ]\n",
    "\n",
    "[coseno, eucliden] = buscar('Cuales son los servicios?', pd.read_csv('./embeddings.csv'))"
   ]
  },
  {
   "cell_type": "markdown",
   "metadata": {},
   "source": [
    "## Similitud cosine_similarity"
   ]
  },
  {
   "cell_type": "code",
   "execution_count": 55,
   "metadata": {},
   "outputs": [
    {
     "data": {
      "text/html": [
       "<div>\n",
       "<style scoped>\n",
       "    .dataframe tbody tr th:only-of-type {\n",
       "        vertical-align: middle;\n",
       "    }\n",
       "\n",
       "    .dataframe tbody tr th {\n",
       "        vertical-align: top;\n",
       "    }\n",
       "\n",
       "    .dataframe thead th {\n",
       "        text-align: right;\n",
       "    }\n",
       "</style>\n",
       "<table border=\"1\" class=\"dataframe\">\n",
       "  <thead>\n",
       "    <tr style=\"text-align: right;\">\n",
       "      <th></th>\n",
       "      <th>texto</th>\n",
       "      <th>Similitud_coseno</th>\n",
       "      <th>Embedding</th>\n",
       "    </tr>\n",
       "  </thead>\n",
       "  <tbody>\n",
       "    <tr>\n",
       "      <th>3</th>\n",
       "      <td>Contamos con servicios de carpinteria y herrería</td>\n",
       "      <td>0.814882</td>\n",
       "      <td>[-0.0018300488591194153, 0.009386846795678139,...</td>\n",
       "    </tr>\n",
       "    <tr>\n",
       "      <th>4</th>\n",
       "      <td>No contamos con servicio de jardinería</td>\n",
       "      <td>0.797549</td>\n",
       "      <td>[-0.00400054594501853, -0.0003356921370141208,...</td>\n",
       "    </tr>\n",
       "    <tr>\n",
       "      <th>2</th>\n",
       "      <td>Las citas se pueden agendar al:  523 432 4212</td>\n",
       "      <td>0.789926</td>\n",
       "      <td>[-0.01759340986609459, -0.007559466175734997, ...</td>\n",
       "    </tr>\n",
       "    <tr>\n",
       "      <th>1</th>\n",
       "      <td>Estamos abiertos de Lunes a Sabado de 9 a 16:00</td>\n",
       "      <td>0.779414</td>\n",
       "      <td>[-0.01700492762029171, -0.0039050509221851826,...</td>\n",
       "    </tr>\n",
       "    <tr>\n",
       "      <th>5</th>\n",
       "      <td>Las cotizaciones se hacen una vez que ya se de...</td>\n",
       "      <td>0.772910</td>\n",
       "      <td>[0.0038105526473373175, -2.1932393792667426e-0...</td>\n",
       "    </tr>\n",
       "  </tbody>\n",
       "</table>\n",
       "</div>"
      ],
      "text/plain": [
       "                                               texto  Similitud_coseno  \\\n",
       "3   Contamos con servicios de carpinteria y herrería          0.814882   \n",
       "4             No contamos con servicio de jardinería          0.797549   \n",
       "2      Las citas se pueden agendar al:  523 432 4212          0.789926   \n",
       "1    Estamos abiertos de Lunes a Sabado de 9 a 16:00          0.779414   \n",
       "5  Las cotizaciones se hacen una vez que ya se de...          0.772910   \n",
       "\n",
       "                                           Embedding  \n",
       "3  [-0.0018300488591194153, 0.009386846795678139,...  \n",
       "4  [-0.00400054594501853, -0.0003356921370141208,...  \n",
       "2  [-0.01759340986609459, -0.007559466175734997, ...  \n",
       "1  [-0.01700492762029171, -0.0039050509221851826,...  \n",
       "5  [0.0038105526473373175, -2.1932393792667426e-0...  "
      ]
     },
     "execution_count": 55,
     "metadata": {},
     "output_type": "execute_result"
    }
   ],
   "source": [
    "coseno"
   ]
  },
  {
   "cell_type": "markdown",
   "metadata": {},
   "source": [
    "## Similitud euclidean_similarity\n"
   ]
  },
  {
   "cell_type": "code",
   "execution_count": 56,
   "metadata": {},
   "outputs": [
    {
     "data": {
      "text/html": [
       "<div>\n",
       "<style scoped>\n",
       "    .dataframe tbody tr th:only-of-type {\n",
       "        vertical-align: middle;\n",
       "    }\n",
       "\n",
       "    .dataframe tbody tr th {\n",
       "        vertical-align: top;\n",
       "    }\n",
       "\n",
       "    .dataframe thead th {\n",
       "        text-align: right;\n",
       "    }\n",
       "</style>\n",
       "<table border=\"1\" class=\"dataframe\">\n",
       "  <thead>\n",
       "    <tr style=\"text-align: right;\">\n",
       "      <th></th>\n",
       "      <th>texto</th>\n",
       "      <th>Similitud_eu</th>\n",
       "      <th>Embedding</th>\n",
       "    </tr>\n",
       "  </thead>\n",
       "  <tbody>\n",
       "    <tr>\n",
       "      <th>3</th>\n",
       "      <td>Contamos con servicios de carpinteria y herrería</td>\n",
       "      <td>0.621709</td>\n",
       "      <td>[-0.0018300488591194153, 0.009386846795678139,...</td>\n",
       "    </tr>\n",
       "    <tr>\n",
       "      <th>4</th>\n",
       "      <td>No contamos con servicio de jardinería</td>\n",
       "      <td>0.611128</td>\n",
       "      <td>[-0.00400054594501853, -0.0003356921370141208,...</td>\n",
       "    </tr>\n",
       "    <tr>\n",
       "      <th>2</th>\n",
       "      <td>Las citas se pueden agendar al:  523 432 4212</td>\n",
       "      <td>0.606727</td>\n",
       "      <td>[-0.01759340986609459, -0.007559466175734997, ...</td>\n",
       "    </tr>\n",
       "    <tr>\n",
       "      <th>1</th>\n",
       "      <td>Estamos abiertos de Lunes a Sabado de 9 a 16:00</td>\n",
       "      <td>0.600886</td>\n",
       "      <td>[-0.01700492762029171, -0.0039050509221851826,...</td>\n",
       "    </tr>\n",
       "    <tr>\n",
       "      <th>5</th>\n",
       "      <td>Las cotizaciones se hacen una vez que ya se de...</td>\n",
       "      <td>0.597397</td>\n",
       "      <td>[0.0038105526473373175, -2.1932393792667426e-0...</td>\n",
       "    </tr>\n",
       "  </tbody>\n",
       "</table>\n",
       "</div>"
      ],
      "text/plain": [
       "                                               texto  Similitud_eu  \\\n",
       "3   Contamos con servicios de carpinteria y herrería      0.621709   \n",
       "4             No contamos con servicio de jardinería      0.611128   \n",
       "2      Las citas se pueden agendar al:  523 432 4212      0.606727   \n",
       "1    Estamos abiertos de Lunes a Sabado de 9 a 16:00      0.600886   \n",
       "5  Las cotizaciones se hacen una vez que ya se de...      0.597397   \n",
       "\n",
       "                                           Embedding  \n",
       "3  [-0.0018300488591194153, 0.009386846795678139,...  \n",
       "4  [-0.00400054594501853, -0.0003356921370141208,...  \n",
       "2  [-0.01759340986609459, -0.007559466175734997, ...  \n",
       "1  [-0.01700492762029171, -0.0039050509221851826,...  \n",
       "5  [0.0038105526473373175, -2.1932393792667426e-0...  "
      ]
     },
     "execution_count": 56,
     "metadata": {},
     "output_type": "execute_result"
    }
   ],
   "source": [
    "eucliden"
   ]
  },
  {
   "attachments": {},
   "cell_type": "markdown",
   "metadata": {},
   "source": [
    "# Procesar datos de un PDF\n",
    "Haremos ahora un ejemplo donde leemos un PDF para poder hacer preguntas y traer un exctracto del PDF"
   ]
  },
  {
   "cell_type": "code",
   "execution_count": null,
   "metadata": {},
   "outputs": [],
   "source": [
    "# Paquete para leer el pdf\n",
    "!pip install pypdf"
   ]
  },
  {
   "cell_type": "markdown",
   "metadata": {},
   "source": [
    "## Carga del documento PDF"
   ]
  },
  {
   "cell_type": "code",
   "execution_count": 16,
   "metadata": {},
   "outputs": [],
   "source": [
    "# pip install langchain pypdf\n",
    "from langchain.document_loaders import PyPDFLoader\n",
    "from langchain.text_splitter import CharacterTextSplitter\n",
    "\n",
    "loader = PyPDFLoader(\"./Doc/mtg.pdf\")\n",
    "pages = loader.load_and_split()"
   ]
  },
  {
   "cell_type": "code",
   "execution_count": 17,
   "metadata": {},
   "outputs": [
    {
     "data": {
      "text/plain": [
       "'Jasper SandnerC 214/ 269 2/1Oo2\\n™ & © 2014 Wizards of the CoastSP• M15Campo de \\nbatallatú \\n16 vidas\\nrestantes\\nyo\\n18 vidas \\nrestantesCementerio  Biblioteca  \\nBiblioteca  Mano\\nManoCementerio  \\n3Para comenzar el juego, baraja tu mazo, \\ntambién conocido como tu biblioteca. Roba una mano de siete cartas y comprueba cuántas tierras tienes. Puedes mirar la línea de texto que hay bajo la ilustración de cada carta para ver de qué tipo de carta se trata. Para este primer juego, si no tienes al menos dos tierras, baraja de nuevo tu mazo (incluyendo tu mano anterior) y roba una mano nueva.\\nCada jugador comienza con 20 vidas, \\ny cada uno debe llevar la cuenta de su total de vidas de alguna manera (con un dado, lápiz y papel...). ¡Reduce el total de vidas de tu oponente a 0 y ganarás el juego!Comenzar'"
      ]
     },
     "execution_count": 17,
     "metadata": {},
     "output_type": "execute_result"
    }
   ],
   "source": [
    "# Un elemento por cada página\n",
    "pages[3].page_content"
   ]
  },
  {
   "cell_type": "code",
   "execution_count": 18,
   "metadata": {},
   "outputs": [],
   "source": [
    "# Objeto que va a hacer los cortes en el texto\n",
    "split = CharacterTextSplitter(chunk_size=300, separator = '.\\n')"
   ]
  },
  {
   "cell_type": "code",
   "execution_count": 19,
   "metadata": {},
   "outputs": [
    {
     "name": "stderr",
     "output_type": "stream",
     "text": [
      "Created a chunk of size 364, which is longer than the specified 300\n",
      "Created a chunk of size 326, which is longer than the specified 300\n",
      "Created a chunk of size 325, which is longer than the specified 300\n",
      "Created a chunk of size 503, which is longer than the specified 300\n",
      "Created a chunk of size 1507, which is longer than the specified 300\n",
      "Created a chunk of size 308, which is longer than the specified 300\n",
      "Created a chunk of size 583, which is longer than the specified 300\n",
      "Created a chunk of size 458, which is longer than the specified 300\n",
      "Created a chunk of size 429, which is longer than the specified 300\n",
      "Created a chunk of size 626, which is longer than the specified 300\n",
      "Created a chunk of size 358, which is longer than the specified 300\n",
      "Created a chunk of size 892, which is longer than the specified 300\n",
      "Created a chunk of size 1311, which is longer than the specified 300\n",
      "Created a chunk of size 333, which is longer than the specified 300\n",
      "Created a chunk of size 1139, which is longer than the specified 300\n",
      "Created a chunk of size 568, which is longer than the specified 300\n",
      "Created a chunk of size 916, which is longer than the specified 300\n",
      "Created a chunk of size 619, which is longer than the specified 300\n",
      "Created a chunk of size 910, which is longer than the specified 300\n",
      "Created a chunk of size 742, which is longer than the specified 300\n",
      "Created a chunk of size 1074, which is longer than the specified 300\n",
      "Created a chunk of size 706, which is longer than the specified 300\n",
      "Created a chunk of size 538, which is longer than the specified 300\n",
      "Created a chunk of size 427, which is longer than the specified 300\n",
      "Created a chunk of size 324, which is longer than the specified 300\n",
      "Created a chunk of size 867, which is longer than the specified 300\n",
      "Created a chunk of size 644, which is longer than the specified 300\n",
      "Created a chunk of size 447, which is longer than the specified 300\n",
      "Created a chunk of size 304, which is longer than the specified 300\n",
      "Created a chunk of size 440, which is longer than the specified 300\n",
      "Created a chunk of size 315, which is longer than the specified 300\n",
      "Created a chunk of size 376, which is longer than the specified 300\n",
      "Created a chunk of size 506, which is longer than the specified 300\n",
      "Created a chunk of size 387, which is longer than the specified 300\n",
      "Created a chunk of size 309, which is longer than the specified 300\n",
      "Created a chunk of size 319, which is longer than the specified 300\n",
      "Created a chunk of size 414, which is longer than the specified 300\n"
     ]
    }
   ],
   "source": [
    "textos = split.split_documents(pages) # Lista de textos"
   ]
  },
  {
   "cell_type": "code",
   "execution_count": 20,
   "metadata": {},
   "outputs": [
    {
     "name": "stdout",
     "output_type": "stream",
     "text": [
      "Guía de inicio \n",
      "rápidoEdad: 13 o +\n",
      "page_content='Guía de inicio \\nrápidoEdad: 13 o +' metadata={'source': './Doc/mtg.pdf', 'page': 0}\n"
     ]
    }
   ],
   "source": [
    "print(textos[0].page_content)\n",
    "print(textos[0])"
   ]
  },
  {
   "cell_type": "markdown",
   "metadata": {},
   "source": [
    "## Guardamos los parramos en un dataframe"
   ]
  },
  {
   "cell_type": "code",
   "execution_count": 21,
   "metadata": {},
   "outputs": [
    {
     "name": "stdout",
     "output_type": "stream",
     "text": [
      "                                                 texto\n",
      "0                  Guía de inicio \\nrápidoEdad: 13 o +\n",
      "1    2Bienvenido a Magic: The Gathering, el mejor j...\n",
      "2    Si ya tienes algunas cartas de Magic, es el mo...\n",
      "3    Hay miles de cartas para elegir, por lo \\nque ...\n",
      "4    Siempre que ganes vidas, puedes \\nponer un con...\n",
      "..                                                 ...\n",
      "107  ∙Paso de mantenimiento\\n ∙Paso de robar: roba ...\n",
      "108  Fase de combate\\n ∙Paso de inicio del combate\\...\n",
      "109  ∙ Paso de declarar bloqueadoras: cada criatura...\n",
      "110  ∙ Paso de daño de combate: las criaturas bloqu...\n",
      "111  ∙Paso de final del combate.\\nFase principal (d...\n",
      "\n",
      "[112 rows x 1 columns]\n"
     ]
    }
   ],
   "source": [
    "# Extraemos la parte de page_content de cada texto y lo pasamos a un dataframe\n",
    "textos = [str(i.page_content) for i in textos] #Lista de parrafos\n",
    "parrafos = pd.DataFrame(textos, columns=[\"texto\"])\n",
    "print(parrafos)"
   ]
  },
  {
   "cell_type": "markdown",
   "metadata": {},
   "source": [
    "# Creamos los emmbeddings"
   ]
  },
  {
   "cell_type": "code",
   "execution_count": 24,
   "metadata": {},
   "outputs": [
    {
     "name": "stdout",
     "output_type": "stream",
     "text": [
      "Total Tokens: 11769\n",
      "Embeddings consto en dolar:  0.00118\n"
     ]
    }
   ],
   "source": [
    "# Calculamos el costo de los embeddings\n",
    "print_embeddings_cost(parrafos[\"texto\"])"
   ]
  },
  {
   "cell_type": "code",
   "execution_count": 25,
   "metadata": {},
   "outputs": [],
   "source": [
    "parrafos['Embedding'] = parrafos[\"texto\"].apply(lambda x: get_embedding(x, model='text-embedding-ada-002')) # Nueva columna con los embeddings de los parrafos\n",
    "parrafos.to_csv('./Doc/MTG.csv')"
   ]
  },
  {
   "cell_type": "code",
   "execution_count": 34,
   "metadata": {},
   "outputs": [
    {
     "name": "stdout",
     "output_type": "stream",
     "text": [
      "Total Tokens: 24\n",
      "Embeddings consto en dolar:  0.00000\n"
     ]
    },
    {
     "data": {
      "text/html": [
       "<div>\n",
       "<style scoped>\n",
       "    .dataframe tbody tr th:only-of-type {\n",
       "        vertical-align: middle;\n",
       "    }\n",
       "\n",
       "    .dataframe tbody tr th {\n",
       "        vertical-align: top;\n",
       "    }\n",
       "\n",
       "    .dataframe thead th {\n",
       "        text-align: right;\n",
       "    }\n",
       "</style>\n",
       "<table border=\"1\" class=\"dataframe\">\n",
       "  <thead>\n",
       "    <tr style=\"text-align: right;\">\n",
       "      <th></th>\n",
       "      <th>texto</th>\n",
       "    </tr>\n",
       "  </thead>\n",
       "  <tbody>\n",
       "    <tr>\n",
       "      <th>15</th>\n",
       "      <td>Cada jugador comienza con 20 vidas, \\ny cada u...</td>\n",
       "    </tr>\n",
       "    <tr>\n",
       "      <th>4</th>\n",
       "      <td>Siempre que ganes vidas, puedes \\nponer un con...</td>\n",
       "    </tr>\n",
       "    <tr>\n",
       "      <th>14</th>\n",
       "      <td>Jasper SandnerC 214/ 269 2/1Oo2\\n™ &amp; © 2014 Wi...</td>\n",
       "    </tr>\n",
       "    <tr>\n",
       "      <th>24</th>\n",
       "      <td>Cuando el Favor divino entre al \\ncampo de bat...</td>\n",
       "    </tr>\n",
       "    <tr>\n",
       "      <th>12</th>\n",
       "      <td>Cuando el Favor divino entre al \\ncampo de bat...</td>\n",
       "    </tr>\n",
       "  </tbody>\n",
       "</table>\n",
       "</div>"
      ],
      "text/plain": [
       "                                                texto\n",
       "15  Cada jugador comienza con 20 vidas, \\ny cada u...\n",
       "4   Siempre que ganes vidas, puedes \\nponer un con...\n",
       "14  Jasper SandnerC 214/ 269 2/1Oo2\\n™ & © 2014 Wi...\n",
       "24  Cuando el Favor divino entre al \\ncampo de bat...\n",
       "12  Cuando el Favor divino entre al \\ncampo de bat..."
      ]
     },
     "execution_count": 34,
     "metadata": {},
     "output_type": "execute_result"
    }
   ],
   "source": [
    "def buscar(busqueda, datos, n_resultados=5):\n",
    "    # embedding de la busqueda\n",
    "    print_embeddings_cost(busqueda) # calculamos el costo\n",
    "    busqueda_embed = get_embedding(busqueda, model=\"text-embedding-ada-002\")\n",
    "    # Convertimos los campos de embedding en listas\n",
    "    datos['Embedding'] = datos['Embedding'].apply(ast.literal_eval)\n",
    "    # Creamos un campo para el cosine_similarity y aplicamos la operacion a los valores del embeddinng\n",
    "    datos[\"Similitud\"] = datos['Embedding'].apply(lambda x: cosine_similarity(np.array(x), np.array(busqueda_embed)))\n",
    "    # Ordenamos de mayor a menor por similitud\n",
    "    datos = datos.sort_values(\"Similitud\", ascending=False)\n",
    "    # Retornamos un dataframe con las primeras 5 respuestas\n",
    "    return datos.iloc[:n_resultados][[\"texto\"]].astype(str)\n",
    "\n",
    "\n",
    "buscar(\"Con cuanta vida empiezo?\", pd.read_csv('./Doc/MTG.csv'), 5) # Reutilizamos la funcion de \"buscar\" del app de gradio"
   ]
  }
 ],
 "metadata": {
  "kernelspec": {
   "display_name": "Python 3.8.16 ('gpt3')",
   "language": "python",
   "name": "python3"
  },
  "language_info": {
   "codemirror_mode": {
    "name": "ipython",
    "version": 3
   },
   "file_extension": ".py",
   "mimetype": "text/x-python",
   "name": "python",
   "nbconvert_exporter": "python",
   "pygments_lexer": "ipython3",
   "version": "3.11.5"
  },
  "orig_nbformat": 4,
  "vscode": {
   "interpreter": {
    "hash": "e3e99415c7ce2cb9b8857283077fa90c1d7ffec737ddc9f365b1225d7f13a404"
   }
  }
 },
 "nbformat": 4,
 "nbformat_minor": 2
}
