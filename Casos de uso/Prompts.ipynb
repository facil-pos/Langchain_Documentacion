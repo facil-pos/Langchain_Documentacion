{
 "cells": [
  {
   "cell_type": "code",
   "execution_count": null,
   "metadata": {},
   "outputs": [],
   "source": [
    "# Instalacion de paquetes necesarios\n",
    "\n",
    "!pip install langchain\n",
    "!pip install openai"
   ]
  },
  {
   "cell_type": "code",
   "execution_count": 1,
   "metadata": {},
   "outputs": [],
   "source": [
    "# Carga de variables de entorno\n",
    "from dotenv import load_dotenv\n",
    "import os\n",
    "\n",
    "load_dotenv()\n",
    "\n",
    "openai_api_key=os.getenv('OPENAI_API_KEY', 'YourAPIKey')"
   ]
  },
  {
   "cell_type": "markdown",
   "metadata": {},
   "source": [
    "# Caso de uso\n",
    "\n",
    "Pensemos que tenemos que traducir un texto, podriamos usar el prompt `Identicia el idioma del siguiente texto \"hi, how are you?\" y traducelo al español`, un prompt se puede dividir en tres partes importantes.\n",
    "\n",
    "* Contexto o instrucciones : En el prompt proporcionamos un contexto o instrucciones a seguir para realizar la tarea que asignemos en este caso identificar el idioma del texto dato por el usuario y traducirlo al español.\n",
    "\n",
    "* Tarea : En el prompt contamos con una tarea a realizar en este caso traducir el texto\n",
    "\n",
    "* Entrada del usuario : Esta es la parte a la que se le tiene que aplicar el contexto y la tarea en este caso serial `hi, how are you?`"
   ]
  },
  {
   "cell_type": "code",
   "execution_count": 2,
   "metadata": {},
   "outputs": [
    {
     "name": "stdout",
     "output_type": "stream",
     "text": [
      "\n",
      "\n",
      "Idioma: Inglés\n",
      "Traducción al español: Hola, ¿cómo estás?\n"
     ]
    }
   ],
   "source": [
    "from langchain.llms import OpenAI\n",
    "\n",
    "# Create an instance of the OpenAI language model\n",
    "language_model = OpenAI( model_name='text-davinci-003', temperature = 0.7, max_tokens = 1024)\n",
    "\n",
    "# Define a prompt\n",
    "prompt = 'Identicia el idioma del siguiente texto \"hi, how are you?\" y traducelo al español'\n",
    "\n",
    "# Usa el modelo para traducir\n",
    "translation = language_model(prompt)\n",
    "\n",
    "# pinta la traduccion generada\n",
    "print(translation)"
   ]
  },
  {
   "cell_type": "markdown",
   "metadata": {},
   "source": [
    "# Prompt Templates\n",
    "\n",
    "Siguiendo el caso de uso de los prompt que nos permite pasar instrucciones, tareas e input del usuario, seria bueno solo pasar el input del usuario, seria bueno ya tener pre-configurado todo el contexto y solo esperar el input del usuario, para esto usamos los Prompt Templates"
   ]
  },
  {
   "cell_type": "code",
   "execution_count": 6,
   "metadata": {},
   "outputs": [
    {
     "name": "stdout",
     "output_type": "stream",
     "text": [
      "\n",
      "\n",
      "Inglés: \"Hi, how are you?\"\n",
      "\n",
      "Español: \"Hola, ¿cómo estás?\"\n"
     ]
    }
   ],
   "source": [
    "# Importa el template de prompt\n",
    "from langchain import PromptTemplate\n",
    "from langchain.llms import OpenAI\n",
    "\n",
    "# Define el template de prompt\n",
    "template = PromptTemplate(\n",
    "    template = 'Identicia el idioma del siguiente texto \"{text}\" y traducelo al español',\n",
    "    input_variables = ['text']    \n",
    ")\n",
    "\n",
    "# Define el modelo\n",
    "llm = OpenAI(model_name=\"text-davinci-003\", temperature = 0.7)\n",
    "\n",
    "# Define el prompt\n",
    "translation = llm(prompt.format(text=\"hi, how are you?\"))\n",
    "\n",
    "# Pinta la traduccion generada\n",
    "print(translation)"
   ]
  }
 ],
 "metadata": {
  "kernelspec": {
   "display_name": "base",
   "language": "python",
   "name": "python3"
  },
  "language_info": {
   "codemirror_mode": {
    "name": "ipython",
    "version": 3
   },
   "file_extension": ".py",
   "mimetype": "text/x-python",
   "name": "python",
   "nbconvert_exporter": "python",
   "pygments_lexer": "ipython3",
   "version": "3.11.5"
  }
 },
 "nbformat": 4,
 "nbformat_minor": 2
}
