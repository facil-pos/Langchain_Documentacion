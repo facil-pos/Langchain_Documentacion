{
 "cells": [
  {
   "cell_type": "markdown",
   "metadata": {},
   "source": [
    "# Configuracion inicial"
   ]
  },
  {
   "cell_type": "code",
   "execution_count": null,
   "metadata": {},
   "outputs": [],
   "source": [
    "!pip install langchain\n",
    "!pip install openai"
   ]
  },
  {
   "cell_type": "markdown",
   "metadata": {},
   "source": [
    "# Introduccion \n",
    "\n",
    "En este caso trabajaremos con dos tipos de memoria que son los más comunes y usadas\n",
    "\n",
    "\n",
    "* [``ConversationBufferMemory``](https://python.langchain.com/docs/modules/memory/types/buffer): Almacena los mensajes de chat en una lista en memoria. Puede devolver los mensajes como una cadena concatenada o como una lista de objetos ``ChatMessage``.\n",
    "\n",
    "* [``Conversation Knowledge Graph``](https://python.langchain.com/docs/modules/memory/types/kg):  Este tipo de memoria utiliza grafos para recrear una memoria."
   ]
  },
  {
   "cell_type": "markdown",
   "metadata": {},
   "source": [
    "# ConversationBufferMemory\n",
    "\n",
    "En este ejemplo, creamos una instancia de ConversationBufferMemory y luego agregamos mensajes de usuario y de IA a la memoria utilizando los métodos add_user_message y add_ai_message. Finalmente, utilizamos el método get_chat_history para obtener el historial de chat almacenado en la memoria."
   ]
  },
  {
   "cell_type": "markdown",
   "metadata": {},
   "source": [
    "## Creacion de la memoria"
   ]
  },
  {
   "cell_type": "code",
   "execution_count": 8,
   "metadata": {},
   "outputs": [
    {
     "name": "stdout",
     "output_type": "stream",
     "text": [
      "{'history': 'Human: Hola\\nAI: Hola, ¿cómo estás?\\nHuman: Muy bien, ¿y tú?\\nAI: Muy bien, gracias\\nHuman: ¿Qué haces?\\nAI: Estoy programando\\nHuman: ¿Qué lenguaje de programación?\\nAI: Python\\nHuman: ¿Qué es Python?\\nAI: Python es un lenguaje de programación interpretado cuya filosofía hace hincapié en la legibilidad de su código.'}\n"
     ]
    }
   ],
   "source": [
    "from langchain.memory import ConversationBufferMemory\n",
    "\n",
    "# Crear una instancia de ConversationBufferMemory\n",
    "memory = ConversationBufferMemory()\n",
    "\n",
    "# Agregar mensajes de usuario y de IA a la memoria\n",
    "memory.save_context({\"input\": \"Hola\"}, {\"output\": \"Hola, ¿cómo estás?\"})\n",
    "memory.save_context({\"input\": \"Muy bien, ¿y tú?\"}, {\"output\": \"Muy bien, gracias\"})\n",
    "memory.save_context({\"input\": \"¿Qué haces?\"}, {\"output\": \"Estoy programando\"})\n",
    "memory.save_context({\"input\": \"¿Qué lenguaje de programación?\"}, {\"output\": \"Python\"})\n",
    "memory.save_context({\"input\": \"¿Qué es Python?\"}, {\"output\": \"Python es un lenguaje de programación interpretado cuya filosofía hace hincapié en la legibilidad de su código.\"})\n",
    "# Leer los mensajes almacenados en la memoria\n",
    "chat_history = memory.load_memory_variables({})\n",
    "print(chat_history)"
   ]
  },
  {
   "cell_type": "markdown",
   "metadata": {},
   "source": [
    "## Integracion con el modelo\n",
    "\n",
    "Para realizar esta integracion se usan los Chains"
   ]
  },
  {
   "cell_type": "code",
   "execution_count": 10,
   "metadata": {},
   "outputs": [],
   "source": [
    "from langchain.llms import OpenAI\n",
    "from langchain.chains import ConversationChain\n",
    "\n",
    "# Crear una instancia de OpenAI\n",
    "llm = OpenAI(temperature=0)\n",
    "\n",
    "# Crear una instancia de ConversationChain\n",
    "conversation = ConversationChain(\n",
    "    llm=llm,\n",
    "    verbose=True, # True para imprimir los mensajes de la conversación\n",
    "    memory=memory # Cargar la memoria de la conversación\n",
    ")"
   ]
  },
  {
   "cell_type": "code",
   "execution_count": 11,
   "metadata": {},
   "outputs": [
    {
     "name": "stdout",
     "output_type": "stream",
     "text": [
      "\n",
      "\n",
      "\u001b[1m> Entering new ConversationChain chain...\u001b[0m\n",
      "Prompt after formatting:\n",
      "\u001b[32;1m\u001b[1;3mThe following is a friendly conversation between a human and an AI. The AI is talkative and provides lots of specific details from its context. If the AI does not know the answer to a question, it truthfully says it does not know.\n",
      "\n",
      "Current conversation:\n",
      "Human: Hola\n",
      "AI: Hola, ¿cómo estás?\n",
      "Human: Muy bien, ¿y tú?\n",
      "AI: Muy bien, gracias\n",
      "Human: ¿Qué haces?\n",
      "AI: Estoy programando\n",
      "Human: ¿Qué lenguaje de programación?\n",
      "AI: Python\n",
      "Human: ¿Qué es Python?\n",
      "AI: Python es un lenguaje de programación interpretado cuya filosofía hace hincapié en la legibilidad de su código.\n",
      "Human: En que lenguaje Programas?\n",
      "AI:\u001b[0m\n",
      "\n",
      "\u001b[1m> Finished chain.\u001b[0m\n"
     ]
    },
    {
     "data": {
      "text/plain": [
       "' Programo en Python.'"
      ]
     },
     "execution_count": 11,
     "metadata": {},
     "output_type": "execute_result"
    }
   ],
   "source": [
    "# Iniciar una conversación \n",
    "conversation.predict(input=\"En que lenguaje Programas?\") # input: mensaje de usuario se guarda en la memoria"
   ]
  },
  {
   "cell_type": "code",
   "execution_count": 13,
   "metadata": {},
   "outputs": [
    {
     "name": "stdout",
     "output_type": "stream",
     "text": [
      "\n",
      "\n",
      "\u001b[1m> Entering new ConversationChain chain...\u001b[0m\n",
      "Prompt after formatting:\n",
      "\u001b[32;1m\u001b[1;3mThe following is a friendly conversation between a human and an AI. The AI is talkative and provides lots of specific details from its context. If the AI does not know the answer to a question, it truthfully says it does not know.\n",
      "\n",
      "Current conversation:\n",
      "Human: Hola\n",
      "AI: Hola, ¿cómo estás?\n",
      "Human: Muy bien, ¿y tú?\n",
      "AI: Muy bien, gracias\n",
      "Human: ¿Qué haces?\n",
      "AI: Estoy programando\n",
      "Human: ¿Qué lenguaje de programación?\n",
      "AI: Python\n",
      "Human: ¿Qué es Python?\n",
      "AI: Python es un lenguaje de programación interpretado cuya filosofía hace hincapié en la legibilidad de su código.\n",
      "Human: En que lenguaje Programas?\n",
      "AI:  Programo en Python.\n",
      "Human: Que haces?\n",
      "AI:  Estoy programando una aplicación para ayudar a la gente a organizar sus tareas diarias.\n",
      "Human: Cúal es tu profesión?\n",
      "AI:\u001b[0m\n",
      "\n",
      "\u001b[1m> Finished chain.\u001b[0m\n"
     ]
    },
    {
     "data": {
      "text/plain": [
       "' Soy un programador de software.'"
      ]
     },
     "execution_count": 13,
     "metadata": {},
     "output_type": "execute_result"
    }
   ],
   "source": [
    "# Continuamos la convercación\n",
    "conversation.predict(input=\"Cúal es tu profesión?\") # input: mensaje de usuario se guarda en la memoria"
   ]
  },
  {
   "cell_type": "markdown",
   "metadata": {},
   "source": [
    "Como se puede ver gracias al verbose, la IA esta creando una memoria de la conversacion"
   ]
  },
  {
   "cell_type": "markdown",
   "metadata": {},
   "source": [
    "# Conversation Knowledge Graph"
   ]
  },
  {
   "cell_type": "markdown",
   "metadata": {},
   "source": [
    "## Creacion de la memoria"
   ]
  },
  {
   "cell_type": "code",
   "execution_count": 21,
   "metadata": {},
   "outputs": [
    {
     "name": "stdout",
     "output_type": "stream",
     "text": [
      "{'history': 'On Pedro: Pedro is a programmer. Pedro is specialized in development of web and mobile applications. Pedro programs in Java.'}\n"
     ]
    }
   ],
   "source": [
    "from langchain.memory import ConversationKGMemory\n",
    "from langchain.llms import OpenAI\n",
    "\n",
    "# Crear una instancia de ConversationKGMemory\n",
    "llm = OpenAI(temperature=0, verbose=True)\n",
    "memory = ConversationKGMemory(llm=llm)\n",
    "\n",
    "# Guardar el contexto de la conversación en la memoria\n",
    "memory.save_context({\"input\": \"Hola\"}, {\"output\": \"Hola, ¿cómo estás?\"})\n",
    "memory.save_context({\"input\": \"Muy bien, ¿y tú?\"}, {\"output\": \"Muy bien, gracias\"})\n",
    "memory.save_context({\"input\": \"¿Qué haces?\"}, {\"output\": \"Estoy programando\"})\n",
    "memory.save_context({\"input\": \"¿Qué lenguaje de programación?\"}, {\"output\": \"Python\"})\n",
    "memory.save_context({\"input\": \"¿Qué es Python?\"}, {\"output\": \"Python es un lenguaje de programación interpretado cuya filosofía hace hincapié en la legibilidad de su código.\"})\n",
    "memory.save_context({\"input\": \"Mi amigo pedro tambien es programador\"}, {\"output\": \"¿En Qué lenguaje de programación?\"})\n",
    "memory.save_context({\"input\": \"En Java, Está especializado en el desarrollo de aplicaciones web y móviles.\"}, {\"output\": \"Java es un lenguaje de programación de propósito general, concurrente, orientado a objetos que fue diseñado específicamente para tener tan pocas dependencias de implementación como fuera posible.\"})\n",
    "# Cargar las variables de memoria\n",
    "memory_variables = memory.load_memory_variables({\"input\": \"Quien es pedro?\"})\n",
    "print(memory_variables)"
   ]
  },
  {
   "cell_type": "markdown",
   "metadata": {},
   "source": [
    "## Integracion con el modelo"
   ]
  },
  {
   "cell_type": "code",
   "execution_count": 23,
   "metadata": {},
   "outputs": [
    {
     "name": "stdout",
     "output_type": "stream",
     "text": [
      "\n",
      "\n",
      "\u001b[1m> Entering new ConversationChain chain...\u001b[0m\n",
      "Prompt after formatting:\n",
      "\u001b[32;1m\u001b[1;3mThe following is a friendly conversation between a human and an AI. The AI is talkative and provides lots of specific details from its context. If the AI does not know the answer to a question, it truthfully says it does not know.\n",
      "\n",
      "Current conversation:\n",
      "On Pedro: Pedro is a programmer. Pedro is specialized in development of web and mobile applications. Pedro programs in Java. Pedro is studying Software Engineering. Pedro is in second year. Pedro is at Harvard University.\n",
      "Human: En que lenguaje programa Pedro?\n",
      "AI:\u001b[0m\n",
      "\n",
      "\u001b[1m> Finished chain.\u001b[0m\n",
      " Pedro programa en Java.\n"
     ]
    }
   ],
   "source": [
    "from langchain.chains import ConversationChain\n",
    "\n",
    "\n",
    "# Crear una cadena de conversación con memoria\n",
    "conversation_with_kg = ConversationChain(llm=llm, memory=memory, verbose=True)\n",
    "\n",
    "# Predecir una respuesta utilizando la cadena de conversación\n",
    "response = conversation_with_kg.predict(input=\"En que lenguaje programa Pedro?\")\n",
    "print(response)"
   ]
  },
  {
   "cell_type": "markdown",
   "metadata": {},
   "source": [
    "Como podemos apreciar el modelo creo una relacion de grafos Con Pedro lo que le permite tener un contexto sobre que hace pedro y su especializacion"
   ]
  }
 ],
 "metadata": {
  "kernelspec": {
   "display_name": "base",
   "language": "python",
   "name": "python3"
  },
  "language_info": {
   "codemirror_mode": {
    "name": "ipython",
    "version": 3
   },
   "file_extension": ".py",
   "mimetype": "text/x-python",
   "name": "python",
   "nbconvert_exporter": "python",
   "pygments_lexer": "ipython3",
   "version": "3.11.5"
  }
 },
 "nbformat": 4,
 "nbformat_minor": 2
}
