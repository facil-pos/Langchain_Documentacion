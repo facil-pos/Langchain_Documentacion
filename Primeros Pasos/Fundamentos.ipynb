{
 "cells": [
  {
   "cell_type": "markdown",
   "metadata": {},
   "source": [
    "# Fundamentos"
   ]
  },
  {
   "cell_type": "markdown",
   "metadata": {},
   "source": [
    "# Indices\n",
    "\n",
    "* [Variables de entorno](#variables-de-entorno)\n",
    "* [Intalacion de paquetes](#instalcion-de-pequetes-necesarios)\n",
    "* [LLM / Chat Model](#llm--chat-model)\n"
   ]
  },
  {
   "cell_type": "markdown",
   "metadata": {},
   "source": [
    "# Variables de entorno\n",
    "Usaremos la API de OpenIA para esto cargaremos nuestras variables de entorno"
   ]
  },
  {
   "cell_type": "code",
   "execution_count": 4,
   "metadata": {},
   "outputs": [
    {
     "ename": "ModuleNotFoundError",
     "evalue": "No module named 'dotenv'",
     "output_type": "error",
     "traceback": [
      "\u001b[1;31m---------------------------------------------------------------------------\u001b[0m",
      "\u001b[1;31mModuleNotFoundError\u001b[0m                       Traceback (most recent call last)",
      "Cell \u001b[1;32mIn[4], line 1\u001b[0m\n\u001b[1;32m----> 1\u001b[0m \u001b[38;5;28;01mfrom\u001b[39;00m \u001b[38;5;21;01mdotenv\u001b[39;00m \u001b[38;5;28;01mimport\u001b[39;00m load_dotenv\n\u001b[0;32m      2\u001b[0m \u001b[38;5;28;01mimport\u001b[39;00m \u001b[38;5;21;01mos\u001b[39;00m\n\u001b[0;32m      4\u001b[0m load_dotenv()\n",
      "\u001b[1;31mModuleNotFoundError\u001b[0m: No module named 'dotenv'"
     ]
    }
   ],
   "source": [
    "from dotenv import load_dotenv\n",
    "import os\n",
    "\n",
    "load_dotenv()\n",
    "\n",
    "openai_api_key=os.getenv('OPENAI_API_KEY', 'YourAPIKey')"
   ]
  },
  {
   "cell_type": "markdown",
   "metadata": {},
   "source": [
    "# Instalcion de pequetes necesarios"
   ]
  },
  {
   "cell_type": "code",
   "execution_count": 2,
   "metadata": {},
   "outputs": [
    {
     "name": "stdout",
     "output_type": "stream",
     "text": [
      "Requirement already satisfied: langchain in c:\\users\\dannkol\\documents\\facilpost\\langchain\\.venv\\lib\\site-packages (0.1.16)\n",
      "Requirement already satisfied: PyYAML>=5.3 in c:\\users\\dannkol\\documents\\facilpost\\langchain\\.venv\\lib\\site-packages (from langchain) (6.0.1)\n",
      "Requirement already satisfied: SQLAlchemy<3,>=1.4 in c:\\users\\dannkol\\documents\\facilpost\\langchain\\.venv\\lib\\site-packages (from langchain) (2.0.29)\n",
      "Requirement already satisfied: aiohttp<4.0.0,>=3.8.3 in c:\\users\\dannkol\\documents\\facilpost\\langchain\\.venv\\lib\\site-packages (from langchain) (3.9.5)\n",
      "Requirement already satisfied: dataclasses-json<0.7,>=0.5.7 in c:\\users\\dannkol\\documents\\facilpost\\langchain\\.venv\\lib\\site-packages (from langchain) (0.6.4)\n",
      "Requirement already satisfied: jsonpatch<2.0,>=1.33 in c:\\users\\dannkol\\documents\\facilpost\\langchain\\.venv\\lib\\site-packages (from langchain) (1.33)\n",
      "Requirement already satisfied: langchain-community<0.1,>=0.0.32 in c:\\users\\dannkol\\documents\\facilpost\\langchain\\.venv\\lib\\site-packages (from langchain) (0.0.33)\n",
      "Requirement already satisfied: langchain-core<0.2.0,>=0.1.42 in c:\\users\\dannkol\\documents\\facilpost\\langchain\\.venv\\lib\\site-packages (from langchain) (0.1.44)\n",
      "Requirement already satisfied: langchain-text-splitters<0.1,>=0.0.1 in c:\\users\\dannkol\\documents\\facilpost\\langchain\\.venv\\lib\\site-packages (from langchain) (0.0.1)\n",
      "Requirement already satisfied: langsmith<0.2.0,>=0.1.17 in c:\\users\\dannkol\\documents\\facilpost\\langchain\\.venv\\lib\\site-packages (from langchain) (0.1.48)\n",
      "Requirement already satisfied: numpy<2,>=1 in c:\\users\\dannkol\\documents\\facilpost\\langchain\\.venv\\lib\\site-packages (from langchain) (1.26.4)\n",
      "Requirement already satisfied: pydantic<3,>=1 in c:\\users\\dannkol\\documents\\facilpost\\langchain\\.venv\\lib\\site-packages (from langchain) (2.7.0)\n",
      "Requirement already satisfied: requests<3,>=2 in c:\\users\\dannkol\\documents\\facilpost\\langchain\\.venv\\lib\\site-packages (from langchain) (2.31.0)\n",
      "Requirement already satisfied: tenacity<9.0.0,>=8.1.0 in c:\\users\\dannkol\\documents\\facilpost\\langchain\\.venv\\lib\\site-packages (from langchain) (8.2.3)\n",
      "Requirement already satisfied: aiosignal>=1.1.2 in c:\\users\\dannkol\\documents\\facilpost\\langchain\\.venv\\lib\\site-packages (from aiohttp<4.0.0,>=3.8.3->langchain) (1.3.1)\n",
      "Requirement already satisfied: attrs>=17.3.0 in c:\\users\\dannkol\\documents\\facilpost\\langchain\\.venv\\lib\\site-packages (from aiohttp<4.0.0,>=3.8.3->langchain) (23.2.0)\n",
      "Requirement already satisfied: frozenlist>=1.1.1 in c:\\users\\dannkol\\documents\\facilpost\\langchain\\.venv\\lib\\site-packages (from aiohttp<4.0.0,>=3.8.3->langchain) (1.4.1)\n",
      "Requirement already satisfied: multidict<7.0,>=4.5 in c:\\users\\dannkol\\documents\\facilpost\\langchain\\.venv\\lib\\site-packages (from aiohttp<4.0.0,>=3.8.3->langchain) (6.0.5)\n",
      "Requirement already satisfied: yarl<2.0,>=1.0 in c:\\users\\dannkol\\documents\\facilpost\\langchain\\.venv\\lib\\site-packages (from aiohttp<4.0.0,>=3.8.3->langchain) (1.9.4)\n",
      "Requirement already satisfied: marshmallow<4.0.0,>=3.18.0 in c:\\users\\dannkol\\documents\\facilpost\\langchain\\.venv\\lib\\site-packages (from dataclasses-json<0.7,>=0.5.7->langchain) (3.21.1)\n",
      "Requirement already satisfied: typing-inspect<1,>=0.4.0 in c:\\users\\dannkol\\documents\\facilpost\\langchain\\.venv\\lib\\site-packages (from dataclasses-json<0.7,>=0.5.7->langchain) (0.9.0)\n",
      "Requirement already satisfied: jsonpointer>=1.9 in c:\\users\\dannkol\\documents\\facilpost\\langchain\\.venv\\lib\\site-packages (from jsonpatch<2.0,>=1.33->langchain) (2.4)\n",
      "Requirement already satisfied: packaging<24.0,>=23.2 in c:\\users\\dannkol\\documents\\facilpost\\langchain\\.venv\\lib\\site-packages (from langchain-core<0.2.0,>=0.1.42->langchain) (23.2)\n",
      "Requirement already satisfied: orjson<4.0.0,>=3.9.14 in c:\\users\\dannkol\\documents\\facilpost\\langchain\\.venv\\lib\\site-packages (from langsmith<0.2.0,>=0.1.17->langchain) (3.10.1)\n",
      "Requirement already satisfied: annotated-types>=0.4.0 in c:\\users\\dannkol\\documents\\facilpost\\langchain\\.venv\\lib\\site-packages (from pydantic<3,>=1->langchain) (0.6.0)\n",
      "Requirement already satisfied: pydantic-core==2.18.1 in c:\\users\\dannkol\\documents\\facilpost\\langchain\\.venv\\lib\\site-packages (from pydantic<3,>=1->langchain) (2.18.1)\n",
      "Requirement already satisfied: typing-extensions>=4.6.1 in c:\\users\\dannkol\\documents\\facilpost\\langchain\\.venv\\lib\\site-packages (from pydantic<3,>=1->langchain) (4.11.0)\n",
      "Requirement already satisfied: charset-normalizer<4,>=2 in c:\\users\\dannkol\\documents\\facilpost\\langchain\\.venv\\lib\\site-packages (from requests<3,>=2->langchain) (3.3.2)\n",
      "Requirement already satisfied: idna<4,>=2.5 in c:\\users\\dannkol\\documents\\facilpost\\langchain\\.venv\\lib\\site-packages (from requests<3,>=2->langchain) (3.7)\n",
      "Requirement already satisfied: urllib3<3,>=1.21.1 in c:\\users\\dannkol\\documents\\facilpost\\langchain\\.venv\\lib\\site-packages (from requests<3,>=2->langchain) (2.2.1)\n",
      "Requirement already satisfied: certifi>=2017.4.17 in c:\\users\\dannkol\\documents\\facilpost\\langchain\\.venv\\lib\\site-packages (from requests<3,>=2->langchain) (2024.2.2)\n",
      "Requirement already satisfied: greenlet!=0.4.17 in c:\\users\\dannkol\\documents\\facilpost\\langchain\\.venv\\lib\\site-packages (from SQLAlchemy<3,>=1.4->langchain) (3.0.3)\n",
      "Requirement already satisfied: mypy-extensions>=0.3.0 in c:\\users\\dannkol\\documents\\facilpost\\langchain\\.venv\\lib\\site-packages (from typing-inspect<1,>=0.4.0->dataclasses-json<0.7,>=0.5.7->langchain) (1.0.0)\n",
      "Requirement already satisfied: langchain-openai in c:\\users\\dannkol\\documents\\facilpost\\langchain\\.venv\\lib\\site-packages (0.1.3)\n",
      "Requirement already satisfied: langchain-core<0.2.0,>=0.1.42 in c:\\users\\dannkol\\documents\\facilpost\\langchain\\.venv\\lib\\site-packages (from langchain-openai) (0.1.44)\n",
      "Requirement already satisfied: openai<2.0.0,>=1.10.0 in c:\\users\\dannkol\\documents\\facilpost\\langchain\\.venv\\lib\\site-packages (from langchain-openai) (1.21.0)\n",
      "Requirement already satisfied: tiktoken<1,>=0.5.2 in c:\\users\\dannkol\\documents\\facilpost\\langchain\\.venv\\lib\\site-packages (from langchain-openai) (0.6.0)\n",
      "Requirement already satisfied: PyYAML>=5.3 in c:\\users\\dannkol\\documents\\facilpost\\langchain\\.venv\\lib\\site-packages (from langchain-core<0.2.0,>=0.1.42->langchain-openai) (6.0.1)\n",
      "Requirement already satisfied: jsonpatch<2.0,>=1.33 in c:\\users\\dannkol\\documents\\facilpost\\langchain\\.venv\\lib\\site-packages (from langchain-core<0.2.0,>=0.1.42->langchain-openai) (1.33)\n",
      "Requirement already satisfied: langsmith<0.2.0,>=0.1.0 in c:\\users\\dannkol\\documents\\facilpost\\langchain\\.venv\\lib\\site-packages (from langchain-core<0.2.0,>=0.1.42->langchain-openai) (0.1.48)\n",
      "Requirement already satisfied: packaging<24.0,>=23.2 in c:\\users\\dannkol\\documents\\facilpost\\langchain\\.venv\\lib\\site-packages (from langchain-core<0.2.0,>=0.1.42->langchain-openai) (23.2)\n",
      "Requirement already satisfied: pydantic<3,>=1 in c:\\users\\dannkol\\documents\\facilpost\\langchain\\.venv\\lib\\site-packages (from langchain-core<0.2.0,>=0.1.42->langchain-openai) (2.7.0)\n",
      "Requirement already satisfied: tenacity<9.0.0,>=8.1.0 in c:\\users\\dannkol\\documents\\facilpost\\langchain\\.venv\\lib\\site-packages (from langchain-core<0.2.0,>=0.1.42->langchain-openai) (8.2.3)\n",
      "Requirement already satisfied: anyio<5,>=3.5.0 in c:\\users\\dannkol\\documents\\facilpost\\langchain\\.venv\\lib\\site-packages (from openai<2.0.0,>=1.10.0->langchain-openai) (4.3.0)\n",
      "Requirement already satisfied: distro<2,>=1.7.0 in c:\\users\\dannkol\\documents\\facilpost\\langchain\\.venv\\lib\\site-packages (from openai<2.0.0,>=1.10.0->langchain-openai) (1.9.0)\n",
      "Requirement already satisfied: httpx<1,>=0.23.0 in c:\\users\\dannkol\\documents\\facilpost\\langchain\\.venv\\lib\\site-packages (from openai<2.0.0,>=1.10.0->langchain-openai) (0.27.0)\n",
      "Requirement already satisfied: sniffio in c:\\users\\dannkol\\documents\\facilpost\\langchain\\.venv\\lib\\site-packages (from openai<2.0.0,>=1.10.0->langchain-openai) (1.3.1)\n",
      "Requirement already satisfied: tqdm>4 in c:\\users\\dannkol\\documents\\facilpost\\langchain\\.venv\\lib\\site-packages (from openai<2.0.0,>=1.10.0->langchain-openai) (4.66.2)\n",
      "Requirement already satisfied: typing-extensions<5,>=4.7 in c:\\users\\dannkol\\documents\\facilpost\\langchain\\.venv\\lib\\site-packages (from openai<2.0.0,>=1.10.0->langchain-openai) (4.11.0)\n",
      "Requirement already satisfied: regex>=2022.1.18 in c:\\users\\dannkol\\documents\\facilpost\\langchain\\.venv\\lib\\site-packages (from tiktoken<1,>=0.5.2->langchain-openai) (2024.4.16)\n",
      "Requirement already satisfied: requests>=2.26.0 in c:\\users\\dannkol\\documents\\facilpost\\langchain\\.venv\\lib\\site-packages (from tiktoken<1,>=0.5.2->langchain-openai) (2.31.0)\n",
      "Requirement already satisfied: idna>=2.8 in c:\\users\\dannkol\\documents\\facilpost\\langchain\\.venv\\lib\\site-packages (from anyio<5,>=3.5.0->openai<2.0.0,>=1.10.0->langchain-openai) (3.7)\n",
      "Requirement already satisfied: certifi in c:\\users\\dannkol\\documents\\facilpost\\langchain\\.venv\\lib\\site-packages (from httpx<1,>=0.23.0->openai<2.0.0,>=1.10.0->langchain-openai) (2024.2.2)\n",
      "Requirement already satisfied: httpcore==1.* in c:\\users\\dannkol\\documents\\facilpost\\langchain\\.venv\\lib\\site-packages (from httpx<1,>=0.23.0->openai<2.0.0,>=1.10.0->langchain-openai) (1.0.5)\n",
      "Requirement already satisfied: h11<0.15,>=0.13 in c:\\users\\dannkol\\documents\\facilpost\\langchain\\.venv\\lib\\site-packages (from httpcore==1.*->httpx<1,>=0.23.0->openai<2.0.0,>=1.10.0->langchain-openai) (0.14.0)\n",
      "Requirement already satisfied: jsonpointer>=1.9 in c:\\users\\dannkol\\documents\\facilpost\\langchain\\.venv\\lib\\site-packages (from jsonpatch<2.0,>=1.33->langchain-core<0.2.0,>=0.1.42->langchain-openai) (2.4)\n",
      "Requirement already satisfied: orjson<4.0.0,>=3.9.14 in c:\\users\\dannkol\\documents\\facilpost\\langchain\\.venv\\lib\\site-packages (from langsmith<0.2.0,>=0.1.0->langchain-core<0.2.0,>=0.1.42->langchain-openai) (3.10.1)\n",
      "Requirement already satisfied: annotated-types>=0.4.0 in c:\\users\\dannkol\\documents\\facilpost\\langchain\\.venv\\lib\\site-packages (from pydantic<3,>=1->langchain-core<0.2.0,>=0.1.42->langchain-openai) (0.6.0)\n",
      "Requirement already satisfied: pydantic-core==2.18.1 in c:\\users\\dannkol\\documents\\facilpost\\langchain\\.venv\\lib\\site-packages (from pydantic<3,>=1->langchain-core<0.2.0,>=0.1.42->langchain-openai) (2.18.1)\n",
      "Requirement already satisfied: charset-normalizer<4,>=2 in c:\\users\\dannkol\\documents\\facilpost\\langchain\\.venv\\lib\\site-packages (from requests>=2.26.0->tiktoken<1,>=0.5.2->langchain-openai) (3.3.2)\n",
      "Requirement already satisfied: urllib3<3,>=1.21.1 in c:\\users\\dannkol\\documents\\facilpost\\langchain\\.venv\\lib\\site-packages (from requests>=2.26.0->tiktoken<1,>=0.5.2->langchain-openai) (2.2.1)\n",
      "Requirement already satisfied: colorama in c:\\users\\dannkol\\documents\\facilpost\\langchain\\.venv\\lib\\site-packages (from tqdm>4->openai<2.0.0,>=1.10.0->langchain-openai) (0.4.6)\n",
      "Requirement already satisfied: langchain-core in c:\\users\\dannkol\\documents\\facilpost\\langchain\\.venv\\lib\\site-packages (0.1.44)\n",
      "Requirement already satisfied: PyYAML>=5.3 in c:\\users\\dannkol\\documents\\facilpost\\langchain\\.venv\\lib\\site-packages (from langchain-core) (6.0.1)\n",
      "Requirement already satisfied: jsonpatch<2.0,>=1.33 in c:\\users\\dannkol\\documents\\facilpost\\langchain\\.venv\\lib\\site-packages (from langchain-core) (1.33)\n",
      "Requirement already satisfied: langsmith<0.2.0,>=0.1.0 in c:\\users\\dannkol\\documents\\facilpost\\langchain\\.venv\\lib\\site-packages (from langchain-core) (0.1.48)\n",
      "Requirement already satisfied: packaging<24.0,>=23.2 in c:\\users\\dannkol\\documents\\facilpost\\langchain\\.venv\\lib\\site-packages (from langchain-core) (23.2)\n",
      "Requirement already satisfied: pydantic<3,>=1 in c:\\users\\dannkol\\documents\\facilpost\\langchain\\.venv\\lib\\site-packages (from langchain-core) (2.7.0)\n",
      "Requirement already satisfied: tenacity<9.0.0,>=8.1.0 in c:\\users\\dannkol\\documents\\facilpost\\langchain\\.venv\\lib\\site-packages (from langchain-core) (8.2.3)\n",
      "Requirement already satisfied: jsonpointer>=1.9 in c:\\users\\dannkol\\documents\\facilpost\\langchain\\.venv\\lib\\site-packages (from jsonpatch<2.0,>=1.33->langchain-core) (2.4)\n",
      "Requirement already satisfied: orjson<4.0.0,>=3.9.14 in c:\\users\\dannkol\\documents\\facilpost\\langchain\\.venv\\lib\\site-packages (from langsmith<0.2.0,>=0.1.0->langchain-core) (3.10.1)\n",
      "Requirement already satisfied: requests<3,>=2 in c:\\users\\dannkol\\documents\\facilpost\\langchain\\.venv\\lib\\site-packages (from langsmith<0.2.0,>=0.1.0->langchain-core) (2.31.0)\n",
      "Requirement already satisfied: annotated-types>=0.4.0 in c:\\users\\dannkol\\documents\\facilpost\\langchain\\.venv\\lib\\site-packages (from pydantic<3,>=1->langchain-core) (0.6.0)\n",
      "Requirement already satisfied: pydantic-core==2.18.1 in c:\\users\\dannkol\\documents\\facilpost\\langchain\\.venv\\lib\\site-packages (from pydantic<3,>=1->langchain-core) (2.18.1)\n",
      "Requirement already satisfied: typing-extensions>=4.6.1 in c:\\users\\dannkol\\documents\\facilpost\\langchain\\.venv\\lib\\site-packages (from pydantic<3,>=1->langchain-core) (4.11.0)\n",
      "Requirement already satisfied: charset-normalizer<4,>=2 in c:\\users\\dannkol\\documents\\facilpost\\langchain\\.venv\\lib\\site-packages (from requests<3,>=2->langsmith<0.2.0,>=0.1.0->langchain-core) (3.3.2)\n",
      "Requirement already satisfied: idna<4,>=2.5 in c:\\users\\dannkol\\documents\\facilpost\\langchain\\.venv\\lib\\site-packages (from requests<3,>=2->langsmith<0.2.0,>=0.1.0->langchain-core) (3.7)\n",
      "Requirement already satisfied: urllib3<3,>=1.21.1 in c:\\users\\dannkol\\documents\\facilpost\\langchain\\.venv\\lib\\site-packages (from requests<3,>=2->langsmith<0.2.0,>=0.1.0->langchain-core) (2.2.1)\n",
      "Requirement already satisfied: certifi>=2017.4.17 in c:\\users\\dannkol\\documents\\facilpost\\langchain\\.venv\\lib\\site-packages (from requests<3,>=2->langsmith<0.2.0,>=0.1.0->langchain-core) (2024.2.2)\n",
      "Requirement already satisfied: openai in c:\\users\\dannkol\\documents\\facilpost\\langchain\\.venv\\lib\\site-packages (1.21.0)\n",
      "Requirement already satisfied: anyio<5,>=3.5.0 in c:\\users\\dannkol\\documents\\facilpost\\langchain\\.venv\\lib\\site-packages (from openai) (4.3.0)\n",
      "Requirement already satisfied: distro<2,>=1.7.0 in c:\\users\\dannkol\\documents\\facilpost\\langchain\\.venv\\lib\\site-packages (from openai) (1.9.0)\n",
      "Requirement already satisfied: httpx<1,>=0.23.0 in c:\\users\\dannkol\\documents\\facilpost\\langchain\\.venv\\lib\\site-packages (from openai) (0.27.0)\n",
      "Requirement already satisfied: pydantic<3,>=1.9.0 in c:\\users\\dannkol\\documents\\facilpost\\langchain\\.venv\\lib\\site-packages (from openai) (2.7.0)\n",
      "Requirement already satisfied: sniffio in c:\\users\\dannkol\\documents\\facilpost\\langchain\\.venv\\lib\\site-packages (from openai) (1.3.1)\n",
      "Requirement already satisfied: tqdm>4 in c:\\users\\dannkol\\documents\\facilpost\\langchain\\.venv\\lib\\site-packages (from openai) (4.66.2)\n",
      "Requirement already satisfied: typing-extensions<5,>=4.7 in c:\\users\\dannkol\\documents\\facilpost\\langchain\\.venv\\lib\\site-packages (from openai) (4.11.0)\n",
      "Requirement already satisfied: idna>=2.8 in c:\\users\\dannkol\\documents\\facilpost\\langchain\\.venv\\lib\\site-packages (from anyio<5,>=3.5.0->openai) (3.7)\n",
      "Requirement already satisfied: certifi in c:\\users\\dannkol\\documents\\facilpost\\langchain\\.venv\\lib\\site-packages (from httpx<1,>=0.23.0->openai) (2024.2.2)\n",
      "Requirement already satisfied: httpcore==1.* in c:\\users\\dannkol\\documents\\facilpost\\langchain\\.venv\\lib\\site-packages (from httpx<1,>=0.23.0->openai) (1.0.5)\n",
      "Requirement already satisfied: h11<0.15,>=0.13 in c:\\users\\dannkol\\documents\\facilpost\\langchain\\.venv\\lib\\site-packages (from httpcore==1.*->httpx<1,>=0.23.0->openai) (0.14.0)\n",
      "Requirement already satisfied: annotated-types>=0.4.0 in c:\\users\\dannkol\\documents\\facilpost\\langchain\\.venv\\lib\\site-packages (from pydantic<3,>=1.9.0->openai) (0.6.0)\n",
      "Requirement already satisfied: pydantic-core==2.18.1 in c:\\users\\dannkol\\documents\\facilpost\\langchain\\.venv\\lib\\site-packages (from pydantic<3,>=1.9.0->openai) (2.18.1)\n",
      "Requirement already satisfied: colorama in c:\\users\\dannkol\\documents\\facilpost\\langchain\\.venv\\lib\\site-packages (from tqdm>4->openai) (0.4.6)\n"
     ]
    }
   ],
   "source": [
    "!pip install langchain\n",
    "!pip install langchain-openai\n",
    "!pip install langchain-core\n",
    "!pip install openai"
   ]
  },
  {
   "cell_type": "markdown",
   "metadata": {},
   "source": [
    "# LLM / Chat Model\n",
    "\n",
    "Langchain nos permite trabajar con dos tipos de modelos de languaje\n",
    "\n",
    "* `llms`: Los LLM son modelos lingüísticos de propósito general que pueden utilizarse para diversas tareas de procesamiento del lenguaje natural, como la generación de texto, el resumen o la traducción, entre otras. Están diseñados para procesar entradas de texto y generar salidas de texto. El módulo llms proporciona funcionalidad relacionada con el trabajo con LLMs, como cargar modelos, realizar inferencias y gestionar configuraciones de modelos.\n",
    "\n",
    "* `chat_models`: Los modelos de chat son un tipo específico de modelo lingüístico diseñado para aplicaciones conversacionales. Están entrenados para comprender y generar respuestas en el contexto de una conversación. El módulo chat_models proporciona funcionalidad específica a los modelos de chat, como el manejo de conversaciones basadas en chat, la gestión de sesiones de chat y la generación de respuestas basadas en el historial de conversaciones."
   ]
  },
  {
   "cell_type": "markdown",
   "metadata": {},
   "source": [
    "### Parametros de las instancias\n",
    "\n",
    "- ``model_name``: Especifica el nombre del modelo de chat a utilizar, como \"gpt-3.5-turbo\".\n",
    "- ``max_tokens``: Establece el número máximo de tokens a generar en la respuesta.\n",
    "- ``temperature``: Controla la aleatoriedad de la salida generada. Los valores más altos (por ejemplo, 0,8) hacen que la salida sea más aleatoria, mientras que los valores más bajos (por ejemplo, 0,2) la hacen más centrada y determinista.\n",
    "- ``n``: Especifica el número de finalizaciones de chat que se generarán para cada pregunta.\n",
    "- ``stop``: Define una lista de cadenas que, si se encuentran en la salida generada, indicarán al modelo que deje de generar más texto.\n",
    "- ``metadata``: Permite añadir metadatos a la traza de ejecución, lo que puede resultar útil para seguir y organizar las salidas del modelo.\n",
    "- ``tags``: Proporciona una lista de etiquetas para añadir a la traza de ejecución, lo que permite una categorización y filtrado más sencillos de las salidas del modelo.\n",
    "- ``callbacks``: Permite añadir retrollamadas a la traza de ejecución, lo que permite realizar acciones personalizadas durante el proceso de generación.\n",
    "- ``verbose``: Controla si se imprime el texto de respuesta."
   ]
  },
  {
   "cell_type": "markdown",
   "metadata": {},
   "source": [
    "## Ejemplo de uso de [`chat models`](https://python.langchain.com/docs/integrations/chat/)"
   ]
  },
  {
   "cell_type": "markdown",
   "metadata": {},
   "source": [
    "### Esquemas\n",
    "\n",
    "LangChain proporciona varios objetos para distinguir fácilmente entre diferentes roles en una conversación. Estos objetos son útiles al trabajar con modelos de lenguaje basados en chat y permiten especificar el rol de cada mensaje en la conversación. Algunos de estos objetos son:\n",
    "\n",
    "* HumanMessage: Representa un mensaje enviado por un humano o usuario en la conversación.\n",
    "* AIMessage: Representa un mensaje generado por un modelo de lenguaje o asistente de inteligencia artificial.\n",
    "*  SystemMessage: Representa un mensaje generado por el sistema o utilizado para configurar el comportamiento del modelo.\n",
    "* FunctionMessage: Representa un mensaje generado como resultado de la ejecución de una función en la cadena.\n",
    "\n"
   ]
  },
  {
   "cell_type": "code",
   "execution_count": 8,
   "metadata": {},
   "outputs": [
    {
     "name": "stdout",
     "output_type": "stream",
     "text": [
      "content='Podrías combinar el abrigo azul con unos jeans oscuros y una bufanda gris. ¡Estarás listo para el clima frío!' response_metadata={'token_usage': {'completion_tokens': 35, 'prompt_tokens': 82, 'total_tokens': 117}, 'model_name': 'gpt-3.5-turbo', 'system_fingerprint': 'fp_c2295e73ad', 'finish_reason': 'stop', 'logprobs': None} id='run-b582533d-7607-4ce7-8cbb-fde732f8d7c8-0'\n"
     ]
    }
   ],
   "source": [
    "from langchain_openai import ChatOpenAI\n",
    "from langchain_core.messages import HumanMessage, SystemMessage, AIMessage\n",
    "\n",
    "# Creamos una instancia de ChatOpenAI\n",
    "chat_model = ChatOpenAI(model_name=\"gpt-3.5-turbo\", temperature=0.5, max_tokens=1024, openai_api_key=openai_api_key)\n",
    "\n",
    "# Definimos la conversación con sus roles\n",
    "conversation = [\n",
    "    SystemMessage(content=\"Eres un simpático bot de inteligencia artificial que ayuda a un usuario a saber qué ropa usar en una frase corta\"),\n",
    "    HumanMessage(content=\"Me gusta el color azul, ¿qué debería usar en un clima frío?\"),\n",
    "    AIMessage(content=\"Podrías usar un abrigo azul\"),\n",
    "    HumanMessage(content=\"¿Con qué más lo combino?\")\n",
    "]\n",
    "\n",
    "# Genera una respuesta basada en la conversación\n",
    "response = chat_model.invoke(conversation)\n",
    "\n",
    "# Imprime la respuesta\n",
    "print(response)"
   ]
  },
  {
   "cell_type": "markdown",
   "metadata": {},
   "source": [
    "## Ejemplo de uso de `langchain.llms`"
   ]
  },
  {
   "cell_type": "code",
   "execution_count": 9,
   "metadata": {},
   "outputs": [
    {
     "name": "stdout",
     "output_type": "stream",
     "text": [
      "\n",
      "\n",
      "¡Hola, ¿cómo estás?\n"
     ]
    }
   ],
   "source": [
    "from langchain_openai import OpenAI\n",
    "\n",
    "# Create an instance of the OpenAI language model\n",
    "language_model = OpenAI( model_name='text-davinci-003', temperature = 0.7, max_tokens = 1024)\n",
    "\n",
    "# Define a prompt\n",
    "prompt = \"Translate the following English text to Spanish: 'Hello, how are you?'\"\n",
    "\n",
    "# Usa el modelo para traducir\n",
    "translation = language_model(prompt)\n",
    "\n",
    "# pinta la traduccion generada\n",
    "print(translation)"
   ]
  },
  {
   "cell_type": "markdown",
   "metadata": {},
   "source": [
    "## Documentos\n",
    "\n",
    "Anteriormente definimos que langchain usa tipos de objetos para definir o diferneciar roles, entre estos esta el objeto Document, Objeto que contiene un texto y metadatos (más información sobre ese texto).\n",
    "\n",
    "Al crear una instancia de Document, puedes proporcionar el contenido del texto y los metadatos opcionales en forma de un diccionario. Algunos ejemplos de metadatos podrían ser la fuente del contenido, las relaciones con otros documentos, entre otros."
   ]
  },
  {
   "cell_type": "code",
   "execution_count": 9,
   "metadata": {},
   "outputs": [
    {
     "name": "stdout",
     "output_type": "stream",
     "text": [
      "Este es el contenido del documento\n",
      "{'fuente': 'ejemplo', 'autor': 'Daniel', 'referencia': 'https://chat.langchain.com/'}\n"
     ]
    }
   ],
   "source": [
    "from langchain_core.documents import Document\n",
    "\n",
    "# Crear una instancia de Document\n",
    "doc = Document(page_content=\"Este es el contenido del documento\", metadata={\"fuente\": \"ejemplo\",\"autor\":\"Daniel\",\"referencia\":\"https://chat.langchain.com/\"})\n",
    "\n",
    "# Acceder al contenido del documento\n",
    "print(doc.page_content)  # \"Este es el contenido del documento\"\n",
    "\n",
    "# Acceder a los metadatos del documento\n",
    "print(doc.metadata)  # {\"fuente\": \"ejemplo\"}"
   ]
  }
 ],
 "metadata": {
  "kernelspec": {
   "display_name": "Python 3 (ipykernel)",
   "language": "python",
   "name": "python3"
  },
  "language_info": {
   "codemirror_mode": {
    "name": "ipython",
    "version": 3
   },
   "file_extension": ".py",
   "mimetype": "text/x-python",
   "name": "python",
   "nbconvert_exporter": "python",
   "pygments_lexer": "ipython3",
   "version": "3.11.3"
  }
 },
 "nbformat": 4,
 "nbformat_minor": 2
}
